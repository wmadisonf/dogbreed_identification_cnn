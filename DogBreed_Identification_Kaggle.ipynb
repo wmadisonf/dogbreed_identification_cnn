{
 "cells": [
  {
   "cell_type": "markdown",
   "metadata": {},
   "source": [
    "## Dog Breed Identification - Kaggle Submission Exercise"
   ]
  },
  {
   "cell_type": "code",
   "execution_count": 80,
   "metadata": {},
   "outputs": [],
   "source": [
    "import os\n",
    "import cv2 \n",
    "from keras.models import Sequential \n",
    "from keras.layers import Dense, Dropout \n",
    "from keras.layers import Conv2D \n",
    "from keras.layers import MaxPooling2D \n",
    "from keras.layers import Flatten\n",
    "from keras.layers.normalization import BatchNormalization\n",
    "from keras.layers import Activation\n",
    "import numpy as np \n",
    "import pandas as pd \n",
    "from tqdm import tqdm\n",
    "import seaborn as sns\n",
    "import matplotlib.pyplot as plt \n",
    "import sklearn\n",
    "from sklearn.cross_validation import train_test_split"
   ]
  },
  {
   "cell_type": "markdown",
   "metadata": {},
   "source": [
    "#### References\n",
    "- Su, C. J. (2018). CNN from scratch. Retrieved from https://www.kaggle.com/carmnejsu/cnn-from-scratch\n",
    "- Kostadinov, N. (2017). Dog Breed Classification with Keras. Retrieved from http://machinememos.com/python/keras/artificial%20intelligence/machine%20learning/transfer%20learning/dog%20breed/neural%20networks/convolutional%20neural%20network/tensorflow/image%20classification/imagenet/2017/07/11/dog-breed-image-classification.html"
   ]
  },
  {
   "cell_type": "markdown",
   "metadata": {},
   "source": [
    "## Preprocessing"
   ]
  },
  {
   "cell_type": "code",
   "execution_count": 81,
   "metadata": {},
   "outputs": [
    {
     "data": {
      "text/html": [
       "<div>\n",
       "<style scoped>\n",
       "    .dataframe tbody tr th:only-of-type {\n",
       "        vertical-align: middle;\n",
       "    }\n",
       "\n",
       "    .dataframe tbody tr th {\n",
       "        vertical-align: top;\n",
       "    }\n",
       "\n",
       "    .dataframe thead th {\n",
       "        text-align: right;\n",
       "    }\n",
       "</style>\n",
       "<table border=\"1\" class=\"dataframe\">\n",
       "  <thead>\n",
       "    <tr style=\"text-align: right;\">\n",
       "      <th></th>\n",
       "      <th>id</th>\n",
       "      <th>breed</th>\n",
       "    </tr>\n",
       "  </thead>\n",
       "  <tbody>\n",
       "    <tr>\n",
       "      <th>0</th>\n",
       "      <td>000bec180eb18c7604dcecc8fe0dba07</td>\n",
       "      <td>boston_bull</td>\n",
       "    </tr>\n",
       "    <tr>\n",
       "      <th>1</th>\n",
       "      <td>001513dfcb2ffafc82cccf4d8bbaba97</td>\n",
       "      <td>dingo</td>\n",
       "    </tr>\n",
       "    <tr>\n",
       "      <th>2</th>\n",
       "      <td>001cdf01b096e06d78e9e5112d419397</td>\n",
       "      <td>pekinese</td>\n",
       "    </tr>\n",
       "    <tr>\n",
       "      <th>3</th>\n",
       "      <td>00214f311d5d2247d5dfe4fe24b2303d</td>\n",
       "      <td>bluetick</td>\n",
       "    </tr>\n",
       "    <tr>\n",
       "      <th>4</th>\n",
       "      <td>0021f9ceb3235effd7fcde7f7538ed62</td>\n",
       "      <td>golden_retriever</td>\n",
       "    </tr>\n",
       "  </tbody>\n",
       "</table>\n",
       "</div>"
      ],
      "text/plain": [
       "                                 id             breed\n",
       "0  000bec180eb18c7604dcecc8fe0dba07       boston_bull\n",
       "1  001513dfcb2ffafc82cccf4d8bbaba97             dingo\n",
       "2  001cdf01b096e06d78e9e5112d419397          pekinese\n",
       "3  00214f311d5d2247d5dfe4fe24b2303d          bluetick\n",
       "4  0021f9ceb3235effd7fcde7f7538ed62  golden_retriever"
      ]
     },
     "execution_count": 81,
     "metadata": {},
     "output_type": "execute_result"
    }
   ],
   "source": [
    "lables = pd.read_csv(\"C:\\\\Users\\\\Bill\\\\.kaggle\\\\competitions\\\\dog-breed-identification\\\\labels.csv\")\n",
    "lables.head()"
   ]
  },
  {
   "cell_type": "code",
   "execution_count": 82,
   "metadata": {},
   "outputs": [
    {
     "data": {
      "text/plain": [
       "(120,)"
      ]
     },
     "execution_count": 82,
     "metadata": {},
     "output_type": "execute_result"
    }
   ],
   "source": [
    "breeds = lables['breed'].value_counts()\n",
    "breeds.shape"
   ]
  },
  {
   "cell_type": "code",
   "execution_count": 83,
   "metadata": {},
   "outputs": [
    {
     "data": {
      "text/plain": [
       "scottish_deerhound      126\n",
       "maltese_dog             117\n",
       "afghan_hound            116\n",
       "entlebucher             115\n",
       "bernese_mountain_dog    114\n",
       "shih-tzu                112\n",
       "great_pyrenees          111\n",
       "pomeranian              111\n",
       "basenji                 110\n",
       "samoyed                 109\n",
       "Name: breed, dtype: int64"
      ]
     },
     "execution_count": 83,
     "metadata": {},
     "output_type": "execute_result"
    }
   ],
   "source": [
    "breeds.head(10)"
   ]
  },
  {
   "cell_type": "code",
   "execution_count": 64,
   "metadata": {},
   "outputs": [],
   "source": [
    "img_size=100\n",
    "num_channel=1# 3 colour channes"
   ]
  },
  {
   "cell_type": "markdown",
   "metadata": {},
   "source": [
    "### Create one hot labels"
   ]
  },
  {
   "cell_type": "code",
   "execution_count": 27,
   "metadata": {},
   "outputs": [],
   "source": [
    "targets = pd.Series(lables['breed'])\n",
    "one_hot = pd.get_dummies(targets, sparse = True)\n",
    "one_hot_labels = np.asarray(one_hot)"
   ]
  },
  {
   "cell_type": "markdown",
   "metadata": {},
   "source": [
    "## Loop image resize process on train and test sets\n",
    "- initialize, format jpg, and resize images\n",
    "- Check shape"
   ]
  },
  {
   "cell_type": "code",
   "execution_count": 65,
   "metadata": {},
   "outputs": [
    {
     "name": "stderr",
     "output_type": "stream",
     "text": [
      " 62%|██████████████████████▏             | 6314/10222 [00:09<00:06, 634.40it/s]C:\\Users\\Bill\\Anaconda3\\lib\\site-packages\\tqdm\\_monitor.py:89: TqdmSynchronisationWarning: Set changed size during iteration (see https://github.com/tqdm/tqdm/issues/481)\n",
      "  TqdmSynchronisationWarning)\n",
      "100%|███████████████████████████████████| 10222/10222 [00:16<00:00, 624.07it/s]\n"
     ]
    }
   ],
   "source": [
    "x_feature = []\n",
    "y_feature = []\n",
    "\n",
    "i = 0 \n",
    "for f, img in tqdm(lables.values): # f for format ,jpg\n",
    "    train_img = cv2.imread('C:\\\\Users\\\\Bill\\\\.kaggle\\\\competitions\\\\dog-breed-identification\\\\train/{}.jpg'.format(f),0)\n",
    "    label = one_hot_labels[i]\n",
    "    train_img_resize = cv2.resize(train_img, (img_size, img_size)) \n",
    "    x_feature.append(train_img_resize)\n",
    "    y_feature.append(label)\n",
    "    i += 1"
   ]
  },
  {
   "cell_type": "code",
   "execution_count": 66,
   "metadata": {},
   "outputs": [
    {
     "name": "stdout",
     "output_type": "stream",
     "text": [
      "(10222, 100, 100)\n",
      "(10222, 100, 100, 1)\n"
     ]
    }
   ],
   "source": [
    "x_train_array = np.array(x_feature, np.float32) / 255.   # /= 255 for normolisation\n",
    "print (x_train_array.shape)\n",
    "x_train_array = np.expand_dims(x_train_array, axis = 3)\n",
    "print (x_train_array.shape)"
   ]
  },
  {
   "cell_type": "code",
   "execution_count": 67,
   "metadata": {},
   "outputs": [
    {
     "name": "stdout",
     "output_type": "stream",
     "text": [
      "(10222, 120)\n"
     ]
    }
   ],
   "source": [
    "y_train_array = np.array(y_feature, np.uint8)\n",
    "print (y_train_array.shape)"
   ]
  },
  {
   "cell_type": "code",
   "execution_count": 68,
   "metadata": {},
   "outputs": [
    {
     "name": "stdout",
     "output_type": "stream",
     "text": [
      "(8177, 100, 100, 1)\n",
      "(2045, 100, 100, 1)\n"
     ]
    }
   ],
   "source": [
    "x_train, x_test, y_train, y_test = train_test_split(x_train_array, y_train_array, test_size=0.2, random_state=2)\n",
    "print (x_train.shape)\n",
    "print (x_val.shape)"
   ]
  },
  {
   "cell_type": "code",
   "execution_count": 70,
   "metadata": {},
   "outputs": [
    {
     "name": "stderr",
     "output_type": "stream",
     "text": [
      " 59%|█████████████████████▎              | 6141/10357 [00:09<00:06, 616.92it/s]C:\\Users\\Bill\\Anaconda3\\lib\\site-packages\\tqdm\\_monitor.py:89: TqdmSynchronisationWarning: Set changed size during iteration (see https://github.com/tqdm/tqdm/issues/481)\n",
      "  TqdmSynchronisationWarning)\n",
      "100%|███████████████████████████████████| 10357/10357 [00:16<00:00, 616.23it/s]\n"
     ]
    }
   ],
   "source": [
    "x_test_feature = []\n",
    "\n",
    "i = 0 # initialisation\n",
    "for f in tqdm(test_img.values): # f for format ,jpg\n",
    "    img = cv2.imread('C:\\\\Users\\\\Bill\\\\.kaggle\\\\competitions\\\\dog-breed-identification\\\\test/{}.jpg'.format(f), 0)\n",
    "    img_resize = cv2.resize(img, (img_size, img_size)) \n",
    "    x_test_feature.append(img_resize)"
   ]
  },
  {
   "cell_type": "code",
   "execution_count": 73,
   "metadata": {},
   "outputs": [
    {
     "name": "stdout",
     "output_type": "stream",
     "text": [
      "(10357, 100, 100)\n",
      "(10357, 100, 100, 1)\n"
     ]
    }
   ],
   "source": [
    "x_test_array = np.array(x_test_feature, np.float32) / 255. \n",
    "print (x_test_array.shape)\n",
    "x_test_array = np.expand_dims(x_test_array, axis = 3)\n",
    "print (x_test_array.shape)"
   ]
  },
  {
   "cell_type": "markdown",
   "metadata": {},
   "source": [
    "### Submit to Kaggle Preprocess "
   ]
  },
  {
   "cell_type": "code",
   "execution_count": 69,
   "metadata": {},
   "outputs": [
    {
     "data": {
      "text/plain": [
       "0    000621fb3cbb32d8935728e48679680e\n",
       "1    00102ee9d8eb90812350685311fe5890\n",
       "2    0012a730dfa437f5f3613fb75efcd4ce\n",
       "3    001510bc8570bbeee98c8d80c8a95ec1\n",
       "4    001a5f3114548acdefa3d4da05474c2e\n",
       "Name: id, dtype: object"
      ]
     },
     "execution_count": 69,
     "metadata": {},
     "output_type": "execute_result"
    }
   ],
   "source": [
    "submission = pd.read_csv('C:\\\\Users\\\\Bill\\\\.kaggle\\\\competitions\\\\dog-breed-identification\\\\submission.csv')\n",
    "test_img = submission['id']\n",
    "test_img.head()"
   ]
  },
  {
   "cell_type": "markdown",
   "metadata": {},
   "source": [
    "## Build a 2 Conv Sequetial CNN Model\n",
    "- This basic model was designed to run on a CPU using Keras with a Tensorflow backend. "
   ]
  },
  {
   "cell_type": "code",
   "execution_count": 52,
   "metadata": {},
   "outputs": [],
   "source": [
    "model = Sequential()\n",
    "\n",
    "model.add(Conv2D (16, (3,3), input_shape = (img_rows, img_cols, num_channel)))\n",
    "model.add(BatchNormalization())\n",
    "model.add(Activation(\"relu\"))\n",
    "model.add(MaxPooling2D(pool_size=(4,4)))\n",
    "model.add(Dropout(0.2))\n",
    "\n",
    "model.add(Conv2D (32, (3,3))) \n",
    "model.add(BatchNormalization())\n",
    "model.add(Activation(\"relu\"))\n",
    "model.add(MaxPooling2D(pool_size=(4,4)))\n",
    "model.add(Dropout(0.2))\n",
    "\n",
    "model.add(Flatten()) \n",
    "model.add(Dropout(0.5))\n",
    "model.add(Dense(256, activation = 'relu')) # fully connected Layer\n",
    "\n",
    "model.add(Dense(120, activation = 'softmax')) # output layer"
   ]
  },
  {
   "cell_type": "markdown",
   "metadata": {},
   "source": [
    "### Compile Model"
   ]
  },
  {
   "cell_type": "code",
   "execution_count": 53,
   "metadata": {},
   "outputs": [
    {
     "name": "stdout",
     "output_type": "stream",
     "text": [
      "_________________________________________________________________\n",
      "Layer (type)                 Output Shape              Param #   \n",
      "=================================================================\n",
      "conv2d_7 (Conv2D)            (None, 126, 126, 16)      160       \n",
      "_________________________________________________________________\n",
      "batch_normalization_2 (Batch (None, 126, 126, 16)      64        \n",
      "_________________________________________________________________\n",
      "activation_1 (Activation)    (None, 126, 126, 16)      0         \n",
      "_________________________________________________________________\n",
      "max_pooling2d_5 (MaxPooling2 (None, 31, 31, 16)        0         \n",
      "_________________________________________________________________\n",
      "dropout_1 (Dropout)          (None, 31, 31, 16)        0         \n",
      "_________________________________________________________________\n",
      "conv2d_8 (Conv2D)            (None, 29, 29, 32)        4640      \n",
      "_________________________________________________________________\n",
      "batch_normalization_3 (Batch (None, 29, 29, 32)        128       \n",
      "_________________________________________________________________\n",
      "activation_2 (Activation)    (None, 29, 29, 32)        0         \n",
      "_________________________________________________________________\n",
      "max_pooling2d_6 (MaxPooling2 (None, 7, 7, 32)          0         \n",
      "_________________________________________________________________\n",
      "dropout_2 (Dropout)          (None, 7, 7, 32)          0         \n",
      "_________________________________________________________________\n",
      "flatten_3 (Flatten)          (None, 1568)              0         \n",
      "_________________________________________________________________\n",
      "dropout_3 (Dropout)          (None, 1568)              0         \n",
      "_________________________________________________________________\n",
      "dense_5 (Dense)              (None, 256)               401664    \n",
      "_________________________________________________________________\n",
      "dense_6 (Dense)              (None, 120)               30840     \n",
      "=================================================================\n",
      "Total params: 437,496\n",
      "Trainable params: 437,400\n",
      "Non-trainable params: 96\n",
      "_________________________________________________________________\n"
     ]
    }
   ],
   "source": [
    "model.compile(optimizer = 'adam' , loss = \"categorical_crossentropy\", metrics=[\"accuracy\"]) \n",
    "model.summary()"
   ]
  },
  {
   "cell_type": "markdown",
   "metadata": {},
   "source": [
    "### Fit the model"
   ]
  },
  {
   "cell_type": "code",
   "execution_count": 59,
   "metadata": {},
   "outputs": [
    {
     "name": "stdout",
     "output_type": "stream",
     "text": [
      "Train on 8177 samples, validate on 2045 samples\n",
      "Epoch 1/3\n",
      " - 290s - loss: 4.7654 - acc: 0.0116 - val_loss: 4.7459 - val_acc: 0.0176\n",
      "Epoch 2/3\n",
      " - 289s - loss: 4.6989 - acc: 0.0181 - val_loss: 4.6771 - val_acc: 0.0156\n",
      "Epoch 3/3\n",
      " - 288s - loss: 4.6300 - acc: 0.0187 - val_loss: 4.6233 - val_acc: 0.0166\n"
     ]
    }
   ],
   "source": [
    "batch_size = 64\n",
    "nb_epochs = 3\n",
    "history = model.fit(x_train, y_train,batch_size=batch_size,epochs=nb_epochs,verbose=2, validation_data=(x_test, y_test),initial_epoch=0)"
   ]
  },
  {
   "cell_type": "markdown",
   "metadata": {},
   "source": [
    "## Predict the model and write the submission csv "
   ]
  },
  {
   "cell_type": "code",
   "execution_count": 60,
   "metadata": {},
   "outputs": [],
   "source": [
    "results = model.predict(x_test_data)\n",
    "prediction = pd.DataFrame(results)"
   ]
  },
  {
   "cell_type": "code",
   "execution_count": 61,
   "metadata": {},
   "outputs": [],
   "source": [
    "col_names = one_hot.columns.values\n",
    "prediction.columns = col_names"
   ]
  },
  {
   "cell_type": "code",
   "execution_count": 62,
   "metadata": {},
   "outputs": [],
   "source": [
    "prediction.insert(0, 'id', submission['id'])"
   ]
  },
  {
   "cell_type": "code",
   "execution_count": 63,
   "metadata": {},
   "outputs": [],
   "source": [
    "submission = prediction\n",
    "submission.to_csv('my_submission.csv', index=False)"
   ]
  },
  {
   "cell_type": "markdown",
   "metadata": {},
   "source": [
    "#### ."
   ]
  },
  {
   "cell_type": "code",
   "execution_count": 75,
   "metadata": {},
   "outputs": [
    {
     "data": {
      "text/html": [
       "<div>\n",
       "<style scoped>\n",
       "    .dataframe tbody tr th:only-of-type {\n",
       "        vertical-align: middle;\n",
       "    }\n",
       "\n",
       "    .dataframe tbody tr th {\n",
       "        vertical-align: top;\n",
       "    }\n",
       "\n",
       "    .dataframe thead th {\n",
       "        text-align: right;\n",
       "    }\n",
       "</style>\n",
       "<table border=\"1\" class=\"dataframe\">\n",
       "  <thead>\n",
       "    <tr style=\"text-align: right;\">\n",
       "      <th></th>\n",
       "      <th>id</th>\n",
       "      <th>affenpinscher</th>\n",
       "      <th>afghan_hound</th>\n",
       "      <th>african_hunting_dog</th>\n",
       "      <th>airedale</th>\n",
       "      <th>american_staffordshire_terrier</th>\n",
       "      <th>appenzeller</th>\n",
       "      <th>australian_terrier</th>\n",
       "      <th>basenji</th>\n",
       "      <th>basset</th>\n",
       "      <th>...</th>\n",
       "      <th>toy_poodle</th>\n",
       "      <th>toy_terrier</th>\n",
       "      <th>vizsla</th>\n",
       "      <th>walker_hound</th>\n",
       "      <th>weimaraner</th>\n",
       "      <th>welsh_springer_spaniel</th>\n",
       "      <th>west_highland_white_terrier</th>\n",
       "      <th>whippet</th>\n",
       "      <th>wire-haired_fox_terrier</th>\n",
       "      <th>yorkshire_terrier</th>\n",
       "    </tr>\n",
       "  </thead>\n",
       "  <tbody>\n",
       "    <tr>\n",
       "      <th>0</th>\n",
       "      <td>000621fb3cbb32d8935728e48679680e</td>\n",
       "      <td>0.000448</td>\n",
       "      <td>0.022789</td>\n",
       "      <td>0.001101</td>\n",
       "      <td>0.004145</td>\n",
       "      <td>0.005541</td>\n",
       "      <td>0.003519</td>\n",
       "      <td>0.002822</td>\n",
       "      <td>0.018993</td>\n",
       "      <td>0.004655</td>\n",
       "      <td>...</td>\n",
       "      <td>0.009264</td>\n",
       "      <td>0.009615</td>\n",
       "      <td>0.004057</td>\n",
       "      <td>0.009680</td>\n",
       "      <td>0.007494</td>\n",
       "      <td>0.012960</td>\n",
       "      <td>0.015013</td>\n",
       "      <td>0.015072</td>\n",
       "      <td>0.019072</td>\n",
       "      <td>0.008264</td>\n",
       "    </tr>\n",
       "    <tr>\n",
       "      <th>1</th>\n",
       "      <td>00102ee9d8eb90812350685311fe5890</td>\n",
       "      <td>0.000297</td>\n",
       "      <td>0.013144</td>\n",
       "      <td>0.001152</td>\n",
       "      <td>0.005504</td>\n",
       "      <td>0.005678</td>\n",
       "      <td>0.002547</td>\n",
       "      <td>0.002432</td>\n",
       "      <td>0.015062</td>\n",
       "      <td>0.004709</td>\n",
       "      <td>...</td>\n",
       "      <td>0.012506</td>\n",
       "      <td>0.010493</td>\n",
       "      <td>0.004034</td>\n",
       "      <td>0.007347</td>\n",
       "      <td>0.007437</td>\n",
       "      <td>0.009824</td>\n",
       "      <td>0.022885</td>\n",
       "      <td>0.014547</td>\n",
       "      <td>0.016485</td>\n",
       "      <td>0.007689</td>\n",
       "    </tr>\n",
       "    <tr>\n",
       "      <th>2</th>\n",
       "      <td>0012a730dfa437f5f3613fb75efcd4ce</td>\n",
       "      <td>0.006374</td>\n",
       "      <td>0.011893</td>\n",
       "      <td>0.006798</td>\n",
       "      <td>0.008126</td>\n",
       "      <td>0.008837</td>\n",
       "      <td>0.009413</td>\n",
       "      <td>0.006824</td>\n",
       "      <td>0.010036</td>\n",
       "      <td>0.010208</td>\n",
       "      <td>...</td>\n",
       "      <td>0.009270</td>\n",
       "      <td>0.009989</td>\n",
       "      <td>0.008703</td>\n",
       "      <td>0.010135</td>\n",
       "      <td>0.007764</td>\n",
       "      <td>0.010669</td>\n",
       "      <td>0.009358</td>\n",
       "      <td>0.009969</td>\n",
       "      <td>0.008776</td>\n",
       "      <td>0.007797</td>\n",
       "    </tr>\n",
       "    <tr>\n",
       "      <th>3</th>\n",
       "      <td>001510bc8570bbeee98c8d80c8a95ec1</td>\n",
       "      <td>0.008401</td>\n",
       "      <td>0.009082</td>\n",
       "      <td>0.009190</td>\n",
       "      <td>0.009270</td>\n",
       "      <td>0.007824</td>\n",
       "      <td>0.008011</td>\n",
       "      <td>0.008915</td>\n",
       "      <td>0.008841</td>\n",
       "      <td>0.008429</td>\n",
       "      <td>...</td>\n",
       "      <td>0.007984</td>\n",
       "      <td>0.008392</td>\n",
       "      <td>0.008276</td>\n",
       "      <td>0.008043</td>\n",
       "      <td>0.008050</td>\n",
       "      <td>0.007944</td>\n",
       "      <td>0.007573</td>\n",
       "      <td>0.008725</td>\n",
       "      <td>0.007738</td>\n",
       "      <td>0.007864</td>\n",
       "    </tr>\n",
       "    <tr>\n",
       "      <th>4</th>\n",
       "      <td>001a5f3114548acdefa3d4da05474c2e</td>\n",
       "      <td>0.006124</td>\n",
       "      <td>0.014334</td>\n",
       "      <td>0.005730</td>\n",
       "      <td>0.007030</td>\n",
       "      <td>0.009459</td>\n",
       "      <td>0.011219</td>\n",
       "      <td>0.005714</td>\n",
       "      <td>0.010421</td>\n",
       "      <td>0.011766</td>\n",
       "      <td>...</td>\n",
       "      <td>0.009493</td>\n",
       "      <td>0.010744</td>\n",
       "      <td>0.009023</td>\n",
       "      <td>0.011946</td>\n",
       "      <td>0.007212</td>\n",
       "      <td>0.013003</td>\n",
       "      <td>0.009601</td>\n",
       "      <td>0.010277</td>\n",
       "      <td>0.008926</td>\n",
       "      <td>0.007416</td>\n",
       "    </tr>\n",
       "  </tbody>\n",
       "</table>\n",
       "<p>5 rows × 121 columns</p>\n",
       "</div>"
      ],
      "text/plain": [
       "                                 id  affenpinscher  afghan_hound  \\\n",
       "0  000621fb3cbb32d8935728e48679680e       0.000448      0.022789   \n",
       "1  00102ee9d8eb90812350685311fe5890       0.000297      0.013144   \n",
       "2  0012a730dfa437f5f3613fb75efcd4ce       0.006374      0.011893   \n",
       "3  001510bc8570bbeee98c8d80c8a95ec1       0.008401      0.009082   \n",
       "4  001a5f3114548acdefa3d4da05474c2e       0.006124      0.014334   \n",
       "\n",
       "   african_hunting_dog  airedale  american_staffordshire_terrier  appenzeller  \\\n",
       "0             0.001101  0.004145                        0.005541     0.003519   \n",
       "1             0.001152  0.005504                        0.005678     0.002547   \n",
       "2             0.006798  0.008126                        0.008837     0.009413   \n",
       "3             0.009190  0.009270                        0.007824     0.008011   \n",
       "4             0.005730  0.007030                        0.009459     0.011219   \n",
       "\n",
       "   australian_terrier   basenji    basset        ...          toy_poodle  \\\n",
       "0            0.002822  0.018993  0.004655        ...            0.009264   \n",
       "1            0.002432  0.015062  0.004709        ...            0.012506   \n",
       "2            0.006824  0.010036  0.010208        ...            0.009270   \n",
       "3            0.008915  0.008841  0.008429        ...            0.007984   \n",
       "4            0.005714  0.010421  0.011766        ...            0.009493   \n",
       "\n",
       "   toy_terrier    vizsla  walker_hound  weimaraner  welsh_springer_spaniel  \\\n",
       "0     0.009615  0.004057      0.009680    0.007494                0.012960   \n",
       "1     0.010493  0.004034      0.007347    0.007437                0.009824   \n",
       "2     0.009989  0.008703      0.010135    0.007764                0.010669   \n",
       "3     0.008392  0.008276      0.008043    0.008050                0.007944   \n",
       "4     0.010744  0.009023      0.011946    0.007212                0.013003   \n",
       "\n",
       "   west_highland_white_terrier   whippet  wire-haired_fox_terrier  \\\n",
       "0                     0.015013  0.015072                 0.019072   \n",
       "1                     0.022885  0.014547                 0.016485   \n",
       "2                     0.009358  0.009969                 0.008776   \n",
       "3                     0.007573  0.008725                 0.007738   \n",
       "4                     0.009601  0.010277                 0.008926   \n",
       "\n",
       "   yorkshire_terrier  \n",
       "0           0.008264  \n",
       "1           0.007689  \n",
       "2           0.007797  \n",
       "3           0.007864  \n",
       "4           0.007416  \n",
       "\n",
       "[5 rows x 121 columns]"
      ]
     },
     "execution_count": 75,
     "metadata": {},
     "output_type": "execute_result"
    }
   ],
   "source": [
    "prediction.head()"
   ]
  }
 ],
 "metadata": {
  "kernelspec": {
   "display_name": "Python 3",
   "language": "python",
   "name": "python3"
  },
  "language_info": {
   "codemirror_mode": {
    "name": "ipython",
    "version": 3
   },
   "file_extension": ".py",
   "mimetype": "text/x-python",
   "name": "python",
   "nbconvert_exporter": "python",
   "pygments_lexer": "ipython3",
   "version": "3.6.4"
  }
 },
 "nbformat": 4,
 "nbformat_minor": 2
}
